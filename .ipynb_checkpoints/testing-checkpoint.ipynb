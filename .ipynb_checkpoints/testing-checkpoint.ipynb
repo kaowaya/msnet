{
 "cells": [
  {
   "cell_type": "code",
   "execution_count": 1,
   "id": "9369709f-6c87-45fc-9bd5-41df68d24903",
   "metadata": {},
   "outputs": [],
   "source": [
    "%load_ext autoreload\n",
    "%autoreload 2"
   ]
  },
  {
   "cell_type": "code",
   "execution_count": 2,
   "id": "ca99a693-ffda-4a76-b26b-d9ae4894b082",
   "metadata": {},
   "outputs": [
    {
     "ename": "ModuleNotFoundError",
     "evalue": "No module named 'util'",
     "output_type": "error",
     "traceback": [
      "\u001b[0;31m---------------------------------------------------------------------------\u001b[0m",
      "\u001b[0;31mModuleNotFoundError\u001b[0m                       Traceback (most recent call last)",
      "Cell \u001b[0;32mIn[2], line 10\u001b[0m\n\u001b[1;32m      7\u001b[0m \u001b[38;5;28;01mimport\u001b[39;00m \u001b[38;5;21;01mmatplotlib\u001b[39;00m\u001b[38;5;21;01m.\u001b[39;00m\u001b[38;5;21;01mpyplot\u001b[39;00m \u001b[38;5;28;01mas\u001b[39;00m \u001b[38;5;21;01mplt\u001b[39;00m\n\u001b[1;32m      8\u001b[0m \u001b[38;5;28;01mimport\u001b[39;00m \u001b[38;5;21;01mtorch\u001b[39;00m\n\u001b[0;32m---> 10\u001b[0m \u001b[38;5;28;01mfrom\u001b[39;00m \u001b[38;5;21;01mutil\u001b[39;00m\u001b[38;5;21;01m.\u001b[39;00m\u001b[38;5;21;01mtest_config\u001b[39;00m \u001b[38;5;28;01mimport\u001b[39;00m Config\n\u001b[1;32m     11\u001b[0m \u001b[38;5;28;01mfrom\u001b[39;00m \u001b[38;5;21;01mmodel\u001b[39;00m\u001b[38;5;21;01m.\u001b[39;00m\u001b[38;5;21;01mmultimodel\u001b[39;00m \u001b[38;5;28;01mimport\u001b[39;00m MultiModel\n\u001b[1;32m     12\u001b[0m \u001b[38;5;28;01mfrom\u001b[39;00m \u001b[38;5;21;01mutil\u001b[39;00m\u001b[38;5;21;01m.\u001b[39;00m\u001b[38;5;21;01mdataset\u001b[39;00m\u001b[38;5;21;01m.\u001b[39;00m\u001b[38;5;21;01mmulti_dataset\u001b[39;00m \u001b[38;5;28;01mimport\u001b[39;00m PV_multi_Dataset\n",
      "\u001b[0;31mModuleNotFoundError\u001b[0m: No module named 'util'"
     ]
    }
   ],
   "source": [
    "from torch.utils.data import Dataset, DataLoader, Subset\n",
    "import random\n",
    "import numpy as np\n",
    "import pandas as pd\n",
    "import pytorch_lightning as pl\n",
    "from pytorch_lightning.callbacks import Callback\n",
    "import matplotlib.pyplot as plt\n",
    "import torch\n",
    " \n",
    "from util.test_config import Config\n",
    "from model.multimodel import MultiModel\n",
    "from util.dataset.multi_dataset import PV_multi_Dataset\n",
    "from util.test_config import Config"
   ]
  },
  {
   "cell_type": "code",
   "execution_count": null,
   "id": "93dce4e5-dd7c-4e44-b3b5-bb827dfb4276",
   "metadata": {},
   "outputs": [],
   "source": [
    "config = Config()\n",
    "print(config.include_nwp)\n",
    "\n",
    "gsp_data = np.load('./jq_data/gfs_data.npy')\n",
    "nwp_data = np.load('./jq_data/nwp_data.npy')\n",
    "\n",
    "gsp_data.shape,nwp_data.shape"
   ]
  },
  {
   "cell_type": "code",
   "execution_count": null,
   "id": "9439b0cc-af9b-4399-a099-3bbdea2c779e",
   "metadata": {},
   "outputs": [],
   "source": [
    "device = 0\n",
    "\n",
    "fix_seed = 30912\n",
    "# fix_seed = 71005\n",
    "random.seed(fix_seed)\n",
    "torch.manual_seed(fix_seed)\n",
    "np.random.seed(fix_seed)\n",
    "\n",
    "data = gsp_data,[nwp_data]\n",
    "dataset = PV_multi_Dataset(config, data)\n",
    "\n",
    "row1 = int(0.7 * len(dataset))\n",
    "row2 = int(0.85 * len(dataset))\n",
    "\n",
    "train_dataset = Subset(dataset,list(range(row1)))\n",
    "print(f'训练集长度为{len(train_dataset)}')\n",
    "vali_dataset = Subset(dataset,list(range(row1,row2)))\n",
    "print(f'验证集长度为{len(vali_dataset)}')\n",
    "test_dataset = Subset(dataset,list(range(row2,len(dataset))))\n",
    "print(f'测试集长度为{len(test_dataset)}')\n",
    "\n",
    "train_loader = DataLoader(train_dataset, batch_size=128, shuffle=True)\n",
    "vali_loader = DataLoader(vali_dataset, batch_size=1, shuffle=False)\n",
    "test_loader = DataLoader(test_dataset, batch_size=1, shuffle=False)\n",
    "\n",
    "class LossHistory(Callback):\n",
    "    def __init__(self):\n",
    "        super().__init__()\n",
    "        self.train_loss = []\n",
    "        self.val_loss = []\n",
    "\n",
    "    def on_train_epoch_end(self, trainer, pl_module):\n",
    "        self.train_loss.append(trainer.callback_metrics[\"train_loss\"].item())\n",
    "\n",
    "    def on_validation_epoch_end(self, trainer, pl_module):\n",
    "        self.val_loss.append(trainer.callback_metrics[\"val_loss\"].item())\n",
    "\n",
    "loss_history = LossHistory()\n",
    "\n",
    "model = MultiModel(config).to(device)\n",
    "trainer = pl.Trainer(max_epochs=600,callbacks=loss_history)\n",
    "\n",
    "trainer.fit(model, train_dataloaders=train_loader, val_dataloaders=vali_loader)"
   ]
  },
  {
   "cell_type": "code",
   "execution_count": null,
   "id": "3d2e0181-de48-4dfd-a60d-d0927abfcb96",
   "metadata": {},
   "outputs": [],
   "source": [
    "import matplotlib.pyplot as plt\n",
    "\n",
    "plt.figure(figsize=(10, 5))\n",
    "plt.plot(loss_history.train_loss, label='Train Loss')\n",
    "plt.plot(loss_history.val_loss, label='Validation Loss')\n",
    "plt.xlabel('Epoch')\n",
    "plt.ylabel('Loss')\n",
    "plt.legend()\n",
    "plt.title('Loss Curve')\n",
    "plt.show()"
   ]
  },
  {
   "cell_type": "code",
   "execution_count": null,
   "id": "1cd93ebf-c28c-40c4-951a-1b1255efea1b",
   "metadata": {},
   "outputs": [],
   "source": [
    "best_model_path = trainer.checkpoint_callback.best_model_path\n",
    "# test_model = MultiModel.load_from_checkpoint(checkpoint_path=best_model_path)\n",
    "\n",
    "# test_model.eval()\n",
    "best_model_path"
   ]
  },
  {
   "cell_type": "code",
   "execution_count": null,
   "id": "d82eb50d-6b0d-4e14-9221-a4fbfb299376",
   "metadata": {},
   "outputs": [],
   "source": []
  }
 ],
 "metadata": {
  "kernelspec": {
   "display_name": "fed",
   "language": "python",
   "name": "fed"
  },
  "language_info": {
   "codemirror_mode": {
    "name": "ipython",
    "version": 3
   },
   "file_extension": ".py",
   "mimetype": "text/x-python",
   "name": "python",
   "nbconvert_exporter": "python",
   "pygments_lexer": "ipython3",
   "version": "3.9.18"
  }
 },
 "nbformat": 4,
 "nbformat_minor": 5
}
